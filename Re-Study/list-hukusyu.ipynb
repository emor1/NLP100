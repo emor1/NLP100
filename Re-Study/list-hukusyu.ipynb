{
 "cells": [
  {
   "cell_type": "markdown",
   "metadata": {},
   "source": [
    "# リスト復習\n",
    "\n",
    "[参考:リストを解説 〜VTuberと学習する初心者でもわかるプログラミング〜](https://www.youtube.com/watch?v=Y1kdB91vyFU)"
   ]
  },
  {
   "cell_type": "markdown",
   "metadata": {},
   "source": [
    "リストとは、いくつかの変数をまとめたもの  \n",
    "リストの中身は要素、インデックスは０から始まる\n",
    "逆からのインデックスはネガティブインデックスといい、一番後ろが-1でどんどん値が下がる"
   ]
  },
  {
   "cell_type": "code",
   "execution_count": 1,
   "metadata": {},
   "outputs": [
    {
     "name": "stdout",
     "output_type": "stream",
     "text": [
      "['a', 'b', 'c']\n"
     ]
    }
   ],
   "source": [
    "x=['a','b','c']\n",
    "print(x)"
   ]
  },
  {
   "cell_type": "code",
   "execution_count": 2,
   "metadata": {},
   "outputs": [
    {
     "name": "stdout",
     "output_type": "stream",
     "text": [
      "['a', 'b', 100]\n",
      "[]\n",
      "3\n"
     ]
    }
   ],
   "source": [
    "x=['a','b',100]\n",
    "print(x)\n",
    "#同じ型じゃなくてもOK\n",
    "#からのリストも作れる\n",
    "x=[]\n",
    "print(x)\n",
    "\n",
    "#長さはlenで取得\n",
    "x=['a','b',100]\n",
    "print(len(x))"
   ]
  },
  {
   "cell_type": "code",
   "execution_count": 1,
   "metadata": {},
   "outputs": [
    {
     "name": "stdout",
     "output_type": "stream",
     "text": [
      "b\n"
     ]
    }
   ],
   "source": [
    "# 値の取得はインデックスで指定\n",
    "x=['a','b',100]\n",
    "print(x[1])"
   ]
  },
  {
   "cell_type": "code",
   "execution_count": 2,
   "metadata": {},
   "outputs": [
    {
     "name": "stdout",
     "output_type": "stream",
     "text": [
      "['a', 'b', 100, 'e']\n",
      "['a', 100, 'e']\n"
     ]
    }
   ],
   "source": [
    "# 追加\n",
    "x=['a','b',100]\n",
    "x.append('e')\n",
    "print(x)\n",
    "\n",
    "#要素の削除\n",
    "x.remove('b')\n",
    "print(x)"
   ]
  },
  {
   "cell_type": "code",
   "execution_count": 4,
   "metadata": {},
   "outputs": [
    {
     "name": "stdout",
     "output_type": "stream",
     "text": [
      "['a', 'b', 100, 'e', 'f']\n",
      "['a', 'b', 100, 'e', 'f']\n"
     ]
    }
   ],
   "source": [
    "# リストの結合\n",
    "\n",
    "#extend\n",
    "x=['a','b',100]\n",
    "y=['e','f']\n",
    "x.extend(y)\n",
    "\n",
    "print(x)\n",
    "\n",
    "#plus\n",
    "x=['a','b',100]\n",
    "y=['e','f']\n",
    "z=x + y\n",
    "\n",
    "print(z)"
   ]
  },
  {
   "cell_type": "code",
   "execution_count": 6,
   "metadata": {},
   "outputs": [
    {
     "name": "stdout",
     "output_type": "stream",
     "text": [
      "['b', 'c', 'd']\n",
      "['a', 'b', 'c', 'd']\n",
      "['b', 'c', 'd', 'e']\n"
     ]
    }
   ],
   "source": [
    "# リストの分割\n",
    "# list_name[開始:終了]\n",
    "\n",
    "x= ['a','b','c','d','e']\n",
    "print(x[1:4])\n",
    "\n",
    "# 開始インデックスを指定しないと先頭から分割\n",
    "print(x[:4])\n",
    "\n",
    "# 終了インデックスも同様\n",
    "print(x[1:])"
   ]
  },
  {
   "cell_type": "code",
   "execution_count": null,
   "metadata": {},
   "outputs": [],
   "source": []
  }
 ],
 "metadata": {
  "interpreter": {
   "hash": "3b8b7b4f0ecb4fe488c708522ab2b3d7dd4520241d9f917dd3cf1964317173b9"
  },
  "kernelspec": {
   "display_name": "Python 3.7.9 ('.nlp100': venv)",
   "language": "python",
   "name": "python3"
  },
  "language_info": {
   "codemirror_mode": {
    "name": "ipython",
    "version": 3
   },
   "file_extension": ".py",
   "mimetype": "text/x-python",
   "name": "python",
   "nbconvert_exporter": "python",
   "pygments_lexer": "ipython3",
   "version": "3.7.9"
  },
  "orig_nbformat": 4
 },
 "nbformat": 4,
 "nbformat_minor": 2
}
